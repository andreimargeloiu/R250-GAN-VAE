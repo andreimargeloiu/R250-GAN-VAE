{
 "cells": [
  {
   "cell_type": "markdown",
   "metadata": {
    "colab_type": "text",
    "id": "o6aHAaz1gE3l"
   },
   "source": [
    "## This part is just to run in Colab!"
   ]
  },
  {
   "cell_type": "code",
   "execution_count": 1,
   "metadata": {
    "colab": {
     "base_uri": "https://localhost:8080/",
     "height": 316
    },
    "colab_type": "code",
    "id": "3GDfG_IafUmL",
    "outputId": "f9202f12-8bb4-4f7d-97da-079c577beff3"
   },
   "outputs": [
    {
     "name": "stdout",
     "output_type": "stream",
     "text": [
      "Mon Mar  9 07:26:04 2020       \n",
      "+-----------------------------------------------------------------------------+\n",
      "| NVIDIA-SMI 440.59       Driver Version: 418.67       CUDA Version: 10.1     |\n",
      "|-------------------------------+----------------------+----------------------+\n",
      "| GPU  Name        Persistence-M| Bus-Id        Disp.A | Volatile Uncorr. ECC |\n",
      "| Fan  Temp  Perf  Pwr:Usage/Cap|         Memory-Usage | GPU-Util  Compute M. |\n",
      "|===============================+======================+======================|\n",
      "|   0  Tesla P100-PCIE...  Off  | 00000000:00:04.0 Off |                    0 |\n",
      "| N/A   36C    P0    26W / 250W |      0MiB / 16280MiB |      0%      Default |\n",
      "+-------------------------------+----------------------+----------------------+\n",
      "                                                                               \n",
      "+-----------------------------------------------------------------------------+\n",
      "| Processes:                                                       GPU Memory |\n",
      "|  GPU       PID   Type   Process name                             Usage      |\n",
      "|=============================================================================|\n",
      "|  No running processes found                                                 |\n",
      "+-----------------------------------------------------------------------------+\n"
     ]
    }
   ],
   "source": [
    "!nvidia-smi"
   ]
  },
  {
   "cell_type": "code",
   "execution_count": 2,
   "metadata": {
    "colab": {
     "base_uri": "https://localhost:8080/",
     "height": 934
    },
    "colab_type": "code",
    "id": "xXnFFHAlfLRL",
    "outputId": "39755fa7-a20a-4a86-d9f2-7c2b62bd510f"
   },
   "outputs": [
    {
     "name": "stdout",
     "output_type": "stream",
     "text": [
      "Cloning into 'R250-GAN-VAE'...\n",
      "remote: Enumerating objects: 103, done.\u001b[K\n",
      "remote: Counting objects: 100% (103/103), done.\u001b[K\n",
      "remote: Compressing objects: 100% (97/97), done.\u001b[K\n",
      "remote: Total 103 (delta 59), reused 42 (delta 2), pack-reused 0\u001b[K\n",
      "Receiving objects: 100% (103/103), 21.15 MiB | 13.33 MiB/s, done.\n",
      "Resolving deltas: 100% (59/59), done.\n",
      "/content/R250-GAN-VAE\n",
      "Requirement already satisfied: torch in /usr/local/lib/python3.6/dist-packages (from -r requirements.txt (line 1)) (1.4.0)\n",
      "Requirement already satisfied: matplotlib in /usr/local/lib/python3.6/dist-packages (from -r requirements.txt (line 2)) (3.1.3)\n",
      "Requirement already satisfied: numpy in /usr/local/lib/python3.6/dist-packages (from -r requirements.txt (line 3)) (1.17.5)\n",
      "Requirement already satisfied: docopt in /usr/local/lib/python3.6/dist-packages (from -r requirements.txt (line 4)) (0.6.2)\n",
      "Collecting gitpython\n",
      "\u001b[?25l  Downloading https://files.pythonhosted.org/packages/d3/2f/6a366d56c9b1355b0880be9ea66b166cb3536392638d8d91413ec66305ad/GitPython-3.1.0-py3-none-any.whl (450kB)\n",
      "\u001b[K     |████████████████████████████████| 460kB 8.6MB/s \n",
      "\u001b[?25hCollecting dpu-utils\n",
      "\u001b[?25l  Downloading https://files.pythonhosted.org/packages/fb/67/f9096ee5bece0fe3fd85486186ddd3fe036529468fb6e002070bc1b0c9a3/dpu_utils-0.2.9-py2.py3-none-any.whl (63kB)\n",
      "\u001b[K     |████████████████████████████████| 71kB 10.5MB/s \n",
      "\u001b[?25hRequirement already satisfied: python-dateutil>=2.1 in /usr/local/lib/python3.6/dist-packages (from matplotlib->-r requirements.txt (line 2)) (2.6.1)\n",
      "Requirement already satisfied: cycler>=0.10 in /usr/local/lib/python3.6/dist-packages (from matplotlib->-r requirements.txt (line 2)) (0.10.0)\n",
      "Requirement already satisfied: kiwisolver>=1.0.1 in /usr/local/lib/python3.6/dist-packages (from matplotlib->-r requirements.txt (line 2)) (1.1.0)\n",
      "Requirement already satisfied: pyparsing!=2.0.4,!=2.1.2,!=2.1.6,>=2.0.1 in /usr/local/lib/python3.6/dist-packages (from matplotlib->-r requirements.txt (line 2)) (2.4.6)\n",
      "Collecting gitdb<5,>=4.0.1\n",
      "\u001b[?25l  Downloading https://files.pythonhosted.org/packages/1e/f5/8f84b3bf9d94bdf2454a302f2fa375832b53660ea532586b8a55ff16ae9a/gitdb-4.0.2-py3-none-any.whl (63kB)\n",
      "\u001b[K     |████████████████████████████████| 71kB 8.0MB/s \n",
      "\u001b[?25hRequirement already satisfied: tqdm in /usr/local/lib/python3.6/dist-packages (from dpu-utils->-r requirements.txt (line 6)) (4.28.1)\n",
      "Collecting azure-storage\n",
      "\u001b[?25l  Downloading https://files.pythonhosted.org/packages/76/26/482c033f8f3a48d16cf75aad91c3e1256856719f4117fabb4696d33aa5da/azure_storage-0.36.0-py2.py3-none-any.whl (190kB)\n",
      "\u001b[K     |████████████████████████████████| 194kB 19.8MB/s \n",
      "\u001b[?25hCollecting SetSimilaritySearch\n",
      "  Downloading https://files.pythonhosted.org/packages/a8/02/5de5172cb7b990f85986ef405129c55b20b0798359f0879d0c649d112cdd/SetSimilaritySearch-0.1.7-py2.py3-none-any.whl\n",
      "Requirement already satisfied: six>=1.5 in /usr/local/lib/python3.6/dist-packages (from python-dateutil>=2.1->matplotlib->-r requirements.txt (line 2)) (1.12.0)\n",
      "Requirement already satisfied: setuptools in /usr/local/lib/python3.6/dist-packages (from kiwisolver>=1.0.1->matplotlib->-r requirements.txt (line 2)) (45.2.0)\n",
      "Collecting smmap<4,>=3.0.1\n",
      "  Downloading https://files.pythonhosted.org/packages/35/d2/27777ab463cd44842c78305fa8097dfba0d94768abbb7e1c4d88f1fa1a0b/smmap-3.0.1-py2.py3-none-any.whl\n",
      "Requirement already satisfied: requests in /usr/local/lib/python3.6/dist-packages (from azure-storage->dpu-utils->-r requirements.txt (line 6)) (2.21.0)\n",
      "Collecting azure-common>=1.1.5\n",
      "  Downloading https://files.pythonhosted.org/packages/3f/4b/8881f8446853dfe3d404468689edcff33c0e2bf62ac2ddf31d08d739fadc/azure_common-1.1.24-py2.py3-none-any.whl\n",
      "Collecting cryptography\n",
      "\u001b[?25l  Downloading https://files.pythonhosted.org/packages/ca/9a/7cece52c46546e214e10811b36b2da52ce1ea7fa203203a629b8dfadad53/cryptography-2.8-cp34-abi3-manylinux2010_x86_64.whl (2.3MB)\n",
      "\u001b[K     |████████████████████████████████| 2.3MB 22.4MB/s \n",
      "\u001b[?25hCollecting azure-nspkg>=2.0.0\n",
      "  Downloading https://files.pythonhosted.org/packages/c4/0c/c562be95a9a2ed52454f598571cf300b1114d0db2aa27f5b8ed3bb9cd0c0/azure_nspkg-3.0.2-py3-none-any.whl\n",
      "Requirement already satisfied: certifi>=2017.4.17 in /usr/local/lib/python3.6/dist-packages (from requests->azure-storage->dpu-utils->-r requirements.txt (line 6)) (2019.11.28)\n",
      "Requirement already satisfied: urllib3<1.25,>=1.21.1 in /usr/local/lib/python3.6/dist-packages (from requests->azure-storage->dpu-utils->-r requirements.txt (line 6)) (1.24.3)\n",
      "Requirement already satisfied: chardet<3.1.0,>=3.0.2 in /usr/local/lib/python3.6/dist-packages (from requests->azure-storage->dpu-utils->-r requirements.txt (line 6)) (3.0.4)\n",
      "Requirement already satisfied: idna<2.9,>=2.5 in /usr/local/lib/python3.6/dist-packages (from requests->azure-storage->dpu-utils->-r requirements.txt (line 6)) (2.8)\n",
      "Requirement already satisfied: cffi!=1.11.3,>=1.8 in /usr/local/lib/python3.6/dist-packages (from cryptography->azure-storage->dpu-utils->-r requirements.txt (line 6)) (1.14.0)\n",
      "Requirement already satisfied: pycparser in /usr/local/lib/python3.6/dist-packages (from cffi!=1.11.3,>=1.8->cryptography->azure-storage->dpu-utils->-r requirements.txt (line 6)) (2.19)\n",
      "Installing collected packages: smmap, gitdb, gitpython, azure-common, cryptography, azure-nspkg, azure-storage, SetSimilaritySearch, dpu-utils\n",
      "Successfully installed SetSimilaritySearch-0.1.7 azure-common-1.1.24 azure-nspkg-3.0.2 azure-storage-0.36.0 cryptography-2.8 dpu-utils-0.2.9 gitdb-4.0.2 gitpython-3.1.0 smmap-3.0.1\n"
     ]
    }
   ],
   "source": [
    "# @title Install Project\n",
    "!git clone https://github.com/margiki/R250-GAN-VAE.git\n",
    "%cd /content/R250-GAN-VAE\n",
    "!pip install -r requirements.txt"
   ]
  },
  {
   "cell_type": "code",
   "execution_count": 3,
   "metadata": {
    "colab": {
     "base_uri": "https://localhost:8080/",
     "height": 125
    },
    "colab_type": "code",
    "id": "tGGMD0WQfbW0",
    "outputId": "27a0e993-cf6e-491e-e998-402256bca5d8"
   },
   "outputs": [
    {
     "name": "stdout",
     "output_type": "stream",
     "text": [
      "Go to this URL in a browser: https://accounts.google.com/o/oauth2/auth?client_id=947318989803-6bn6qk8qdgf4n4g3pfee6491hc0brc4i.apps.googleusercontent.com&redirect_uri=urn%3aietf%3awg%3aoauth%3a2.0%3aoob&response_type=code&scope=email%20https%3a%2f%2fwww.googleapis.com%2fauth%2fdocs.test%20https%3a%2f%2fwww.googleapis.com%2fauth%2fdrive%20https%3a%2f%2fwww.googleapis.com%2fauth%2fdrive.photos.readonly%20https%3a%2f%2fwww.googleapis.com%2fauth%2fpeopleapi.readonly\n",
      "\n",
      "Enter your authorization code:\n",
      "··········\n",
      "Mounted at /content/drive\n"
     ]
    }
   ],
   "source": [
    "# @Mount Google Drive\n",
    "from google.colab import drive\n",
    "drive.mount('/content/drive')"
   ]
  },
  {
   "cell_type": "code",
   "execution_count": 10,
   "metadata": {
    "colab": {
     "base_uri": "https://localhost:8080/",
     "height": 210
    },
    "colab_type": "code",
    "id": "zDWzSQALfY3e",
    "outputId": "acbf0f47-4eb2-43ed-e9ab-42ac6efdba84"
   },
   "outputs": [
    {
     "name": "stdout",
     "output_type": "stream",
     "text": [
      "remote: Enumerating objects: 8, done.\u001b[K\n",
      "remote: Counting objects:  12% (1/8)\u001b[K\r",
      "remote: Counting objects:  25% (2/8)\u001b[K\r",
      "remote: Counting objects:  37% (3/8)\u001b[K\r",
      "remote: Counting objects:  50% (4/8)\u001b[K\r",
      "remote: Counting objects:  62% (5/8)\u001b[K\r",
      "remote: Counting objects:  75% (6/8)\u001b[K\r",
      "remote: Counting objects:  87% (7/8)\u001b[K\r",
      "remote: Counting objects: 100% (8/8)\u001b[K\r",
      "remote: Counting objects: 100% (8/8), done.\u001b[K\n",
      "remote: Compressing objects:  16% (1/6)\u001b[K\r",
      "remote: Compressing objects:  33% (2/6)\u001b[K\r",
      "remote: Compressing objects:  50% (3/6)\u001b[K\r",
      "remote: Compressing objects:  66% (4/6)\u001b[K\r",
      "remote: Compressing objects:  83% (5/6)\u001b[K\r",
      "remote: Compressing objects: 100% (6/6)\u001b[K\r",
      "remote: Compressing objects: 100% (6/6), done.\u001b[K\n",
      "remote: Total 6 (delta 4), reused 2 (delta 0), pack-reused 0\u001b[K\n",
      "Unpacking objects:  16% (1/6)   \r",
      "Unpacking objects:  33% (2/6)   \r",
      "Unpacking objects:  50% (3/6)   \r",
      "Unpacking objects:  66% (4/6)   \r",
      "Unpacking objects:  83% (5/6)   \r",
      "Unpacking objects: 100% (6/6)   \r",
      "Unpacking objects: 100% (6/6), done.\n",
      "From https://github.com/margiki/R250-GAN-VAE\n",
      "   57ca562..aff481b  master     -> origin/master\n",
      "Updating 57ca562..aff481b\n",
      "Fast-forward\n",
      " train.py | 10 \u001b[32m+++++\u001b[m\u001b[31m-----\u001b[m\n",
      " 1 file changed, 5 insertions(+), 5 deletions(-)\n"
     ]
    }
   ],
   "source": [
    "#@title Git pull\n",
    "!git pull"
   ]
  },
  {
   "cell_type": "markdown",
   "metadata": {
    "colab_type": "text",
    "id": "PKsVaDUdgBwG",
    "pycharm": {
     "name": "#%% md\n"
    }
   },
   "source": [
    "## Interactive"
   ]
  },
  {
   "cell_type": "code",
   "execution_count": 10,
   "metadata": {
    "colab": {
     "base_uri": "https://localhost:8080/",
     "height": 70
    },
    "colab_type": "code",
    "id": "GHvjuhVke81v",
    "outputId": "64c3691b-9a80-4096-9994-f123175c92ca",
    "pycharm": {
     "name": "#%%\n"
    }
   },
   "outputs": [
    {
     "name": "stdout",
     "output_type": "stream",
     "text": [
      "The autoreload extension is already loaded. To reload it, use:\n",
      "  %reload_ext autoreload\n"
     ]
    }
   ],
   "source": [
    "%load_ext autoreload\n",
    "%autoreload 2\n",
    "%matplotlib inline"
   ]
  },
  {
   "cell_type": "code",
   "execution_count": 15,
   "metadata": {
    "colab": {},
    "colab_type": "code",
    "id": "6tbZe4oqe810"
   },
   "outputs": [
    {
     "name": "stdout",
     "output_type": "stream",
     "text": [
      "using device: cpu\n"
     ]
    }
   ],
   "source": [
    "from train import run"
   ]
  },
  {
   "cell_type": "code",
   "execution_count": 28,
   "metadata": {
    "colab": {},
    "colab_type": "code",
    "id": "zQFOwEMDfiK9"
   },
   "outputs": [
    {
     "name": "stdout",
     "output_type": "stream",
     "text": [
      "using device: cpu\n"
     ]
    }
   ],
   "source": [
    "args = {\n",
    "  '--model': 'vaegan',\n",
    "  '--epochs': 20,  \n",
    "  '--show-every': 1,\n",
    "  '--base-path': './',\n",
    "#   '--base-path': \"/content/drive/My Drive/_Facultate/MPhil Cambridge/Advanced topics in ML/Autoencoders/R250-GAN-VAE\",\n",
    "  \n",
    "  '--batch-size': 128,\n",
    "  '--lr-vae': 1e-3,\n",
    "  '--lr-disc': 1e-4,\n",
    "  '--negative_slope': 0.01,\n",
    "  '--gamma': 1,\n",
    "  '--beta': 1\n",
    "}"
   ]
  },
  {
   "cell_type": "code",
   "execution_count": 30,
   "metadata": {},
   "outputs": [
    {
     "name": "stderr",
     "output_type": "stream",
     "text": [
      "git.cmd     : DEBUG    Popen(['git', 'cat-file', '--batch-check'], cwd=/Users/andrei/Google Drive/_Facultate/MPhil Cambridge/Advanced topics in ML/Autoencoders/R250-GAN-VAE, universal_newlines=False, shell=None, istream=<valid stream>)\n",
      "git.cmd     : DEBUG    Popen(['git', 'cat-file', '--batch-check'], cwd=/Users/andrei/Google Drive/_Facultate/MPhil Cambridge/Advanced topics in ML/Autoencoders/R250-GAN-VAE, universal_newlines=False, shell=None, istream=<valid stream>)\n",
      "git.cmd     : DEBUG    Popen(['git', 'cat-file', '--batch-check'], cwd=/Users/andrei/Google Drive/_Facultate/MPhil Cambridge/Advanced topics in ML/Autoencoders/R250-GAN-VAE, universal_newlines=False, shell=None, istream=<valid stream>)\n",
      "git.cmd     : DEBUG    Popen(['git', 'cat-file', '--batch-check'], cwd=/Users/andrei/Google Drive/_Facultate/MPhil Cambridge/Advanced topics in ML/Autoencoders/R250-GAN-VAE, universal_newlines=False, shell=None, istream=<valid stream>)\n",
      "git.cmd     : DEBUG    Popen(['git', 'cat-file', '--batch-check'], cwd=/Users/andrei/Google Drive/_Facultate/MPhil Cambridge/Advanced topics in ML/Autoencoders/R250-GAN-VAE, universal_newlines=False, shell=None, istream=<valid stream>)\n",
      "git.cmd     : DEBUG    Popen(['git', 'cat-file', '--batch-check'], cwd=/Users/andrei/Google Drive/_Facultate/MPhil Cambridge/Advanced topics in ML/Autoencoders/R250-GAN-VAE, universal_newlines=False, shell=None, istream=<valid stream>)\n",
      "git.cmd     : DEBUG    Popen(['git', 'cat-file', '--batch-check'], cwd=/Users/andrei/Google Drive/_Facultate/MPhil Cambridge/Advanced topics in ML/Autoencoders/R250-GAN-VAE, universal_newlines=False, shell=None, istream=<valid stream>)\n",
      "git.cmd     : DEBUG    Popen(['git', 'cat-file', '--batch-check'], cwd=/Users/andrei/Google Drive/_Facultate/MPhil Cambridge/Advanced topics in ML/Autoencoders/R250-GAN-VAE, universal_newlines=False, shell=None, istream=<valid stream>)\n",
      "git.cmd     : DEBUG    Popen(['git', 'cat-file', '--batch-check'], cwd=/Users/andrei/Google Drive/_Facultate/MPhil Cambridge/Advanced topics in ML/Autoencoders/R250-GAN-VAE, universal_newlines=False, shell=None, istream=<valid stream>)\n",
      "git.cmd     : DEBUG    Popen(['git', 'cat-file', '--batch-check'], cwd=/Users/andrei/Google Drive/_Facultate/MPhil Cambridge/Advanced topics in ML/Autoencoders/R250-GAN-VAE, universal_newlines=False, shell=None, istream=<valid stream>)\n",
      "root        : INFO     \n",
      "\n",
      "---Started Training from commit 2488cb6bed70b0af066b0944e23333012f46a4fc---\n",
      "root        : INFO     \n",
      "\n",
      "---Started Training from commit 2488cb6bed70b0af066b0944e23333012f46a4fc---\n",
      "root        : INFO     \n",
      "\n",
      "---Started Training from commit 2488cb6bed70b0af066b0944e23333012f46a4fc---\n",
      "root        : INFO     \n",
      "\n",
      "---Started Training from commit 2488cb6bed70b0af066b0944e23333012f46a4fc---\n",
      "root        : INFO     \n",
      "\n",
      "---Started Training from commit 2488cb6bed70b0af066b0944e23333012f46a4fc---\n",
      "root        : INFO     \n",
      "\n",
      "---Started Training from commit 2488cb6bed70b0af066b0944e23333012f46a4fc---\n",
      "root        : INFO     \n",
      "\n",
      "---Started Training from commit 2488cb6bed70b0af066b0944e23333012f46a4fc---\n",
      "root        : INFO     \n",
      "\n",
      "---Started Training from commit 2488cb6bed70b0af066b0944e23333012f46a4fc---\n",
      "root        : INFO     \n",
      "\n",
      "---Started Training from commit 2488cb6bed70b0af066b0944e23333012f46a4fc---\n",
      "root        : INFO     \n",
      "\n",
      "---Started Training from commit 2488cb6bed70b0af066b0944e23333012f46a4fc---\n",
      "root        : INFO     \n",
      "\n",
      "---Started Training from commit 2488cb6bed70b0af066b0944e23333012f46a4fc---\n",
      "root        : INFO     {\n",
      "  \"--base-path\": \"./\",\n",
      "  \"--batch-size\": 128,\n",
      "  \"--beta\": 1,\n",
      "  \"--epochs\": 20,\n",
      "  \"--gamma\": 1,\n",
      "  \"--lr-disc\": 0.001,\n",
      "  \"--lr-vae\": 0.001,\n",
      "  \"--model\": \"vaegan\",\n",
      "  \"--negative_slope\": 0.01,\n",
      "  \"--show-every\": 1\n",
      "}\n",
      "root        : INFO     {\n",
      "  \"--base-path\": \"./\",\n",
      "  \"--batch-size\": 128,\n",
      "  \"--beta\": 1,\n",
      "  \"--epochs\": 20,\n",
      "  \"--gamma\": 1,\n",
      "  \"--lr-disc\": 0.001,\n",
      "  \"--lr-vae\": 0.001,\n",
      "  \"--model\": \"vaegan\",\n",
      "  \"--negative_slope\": 0.01,\n",
      "  \"--show-every\": 1\n",
      "}\n",
      "root        : INFO     {\n",
      "  \"--base-path\": \"./\",\n",
      "  \"--batch-size\": 128,\n",
      "  \"--beta\": 1,\n",
      "  \"--epochs\": 20,\n",
      "  \"--gamma\": 1,\n",
      "  \"--lr-disc\": 0.001,\n",
      "  \"--lr-vae\": 0.001,\n",
      "  \"--model\": \"vaegan\",\n",
      "  \"--negative_slope\": 0.01,\n",
      "  \"--show-every\": 1\n",
      "}\n",
      "root        : INFO     {\n",
      "  \"--base-path\": \"./\",\n",
      "  \"--batch-size\": 128,\n",
      "  \"--beta\": 1,\n",
      "  \"--epochs\": 20,\n",
      "  \"--gamma\": 1,\n",
      "  \"--lr-disc\": 0.001,\n",
      "  \"--lr-vae\": 0.001,\n",
      "  \"--model\": \"vaegan\",\n",
      "  \"--negative_slope\": 0.01,\n",
      "  \"--show-every\": 1\n",
      "}\n",
      "root        : INFO     {\n",
      "  \"--base-path\": \"./\",\n",
      "  \"--batch-size\": 128,\n",
      "  \"--beta\": 1,\n",
      "  \"--epochs\": 20,\n",
      "  \"--gamma\": 1,\n",
      "  \"--lr-disc\": 0.001,\n",
      "  \"--lr-vae\": 0.001,\n",
      "  \"--model\": \"vaegan\",\n",
      "  \"--negative_slope\": 0.01,\n",
      "  \"--show-every\": 1\n",
      "}\n",
      "root        : INFO     {\n",
      "  \"--base-path\": \"./\",\n",
      "  \"--batch-size\": 128,\n",
      "  \"--beta\": 1,\n",
      "  \"--epochs\": 20,\n",
      "  \"--gamma\": 1,\n",
      "  \"--lr-disc\": 0.001,\n",
      "  \"--lr-vae\": 0.001,\n",
      "  \"--model\": \"vaegan\",\n",
      "  \"--negative_slope\": 0.01,\n",
      "  \"--show-every\": 1\n",
      "}\n",
      "root        : INFO     {\n",
      "  \"--base-path\": \"./\",\n",
      "  \"--batch-size\": 128,\n",
      "  \"--beta\": 1,\n",
      "  \"--epochs\": 20,\n",
      "  \"--gamma\": 1,\n",
      "  \"--lr-disc\": 0.001,\n",
      "  \"--lr-vae\": 0.001,\n",
      "  \"--model\": \"vaegan\",\n",
      "  \"--negative_slope\": 0.01,\n",
      "  \"--show-every\": 1\n",
      "}\n",
      "root        : INFO     {\n",
      "  \"--base-path\": \"./\",\n",
      "  \"--batch-size\": 128,\n",
      "  \"--beta\": 1,\n",
      "  \"--epochs\": 20,\n",
      "  \"--gamma\": 1,\n",
      "  \"--lr-disc\": 0.001,\n",
      "  \"--lr-vae\": 0.001,\n",
      "  \"--model\": \"vaegan\",\n",
      "  \"--negative_slope\": 0.01,\n",
      "  \"--show-every\": 1\n",
      "}\n",
      "root        : INFO     {\n",
      "  \"--base-path\": \"./\",\n",
      "  \"--batch-size\": 128,\n",
      "  \"--beta\": 1,\n",
      "  \"--epochs\": 20,\n",
      "  \"--gamma\": 1,\n",
      "  \"--lr-disc\": 0.001,\n",
      "  \"--lr-vae\": 0.001,\n",
      "  \"--model\": \"vaegan\",\n",
      "  \"--negative_slope\": 0.01,\n",
      "  \"--show-every\": 1\n",
      "}\n",
      "root        : INFO     {\n",
      "  \"--base-path\": \"./\",\n",
      "  \"--batch-size\": 128,\n",
      "  \"--beta\": 1,\n",
      "  \"--epochs\": 20,\n",
      "  \"--gamma\": 1,\n",
      "  \"--lr-disc\": 0.001,\n",
      "  \"--lr-vae\": 0.001,\n",
      "  \"--model\": \"vaegan\",\n",
      "  \"--negative_slope\": 0.01,\n",
      "  \"--show-every\": 1\n",
      "}\n",
      "root        : INFO     {\n",
      "  \"--base-path\": \"./\",\n",
      "  \"--batch-size\": 128,\n",
      "  \"--beta\": 1,\n",
      "  \"--epochs\": 20,\n",
      "  \"--gamma\": 1,\n",
      "  \"--lr-disc\": 0.001,\n",
      "  \"--lr-vae\": 0.001,\n",
      "  \"--model\": \"vaegan\",\n",
      "  \"--negative_slope\": 0.01,\n",
      "  \"--show-every\": 1\n",
      "}\n",
      "root        : DEBUG    20200309-085002\n",
      "root        : DEBUG    20200309-085002\n",
      "root        : DEBUG    20200309-085002\n",
      "root        : DEBUG    20200309-085002\n",
      "root        : DEBUG    20200309-085002\n",
      "root        : DEBUG    20200309-085002\n",
      "root        : DEBUG    20200309-085002\n",
      "root        : DEBUG    20200309-085002\n",
      "root        : DEBUG    20200309-085002\n",
      "root        : DEBUG    20200309-085002\n"
     ]
    },
    {
     "name": "stdout",
     "output_type": "stream",
     "text": [
      "using device: cpu\n",
      "Latent variables has dimension: {imgs_enc.size()}\n",
      "Decoder dimension is torch.Size([16, 1, 28, 28])\n",
      "Discriminator output shape: torch.Size([16, 1])\n",
      "Iter: 0, Enc: 2.828e+04, Dec:-2.069, Dis:2.09\n",
      "Iter: 1, Enc: 1.963e+04, Dec:-1.77, Dis:1.791\n",
      "Iter: 2, Enc: 1.565e+04, Dec:-1.385, Dis:1.413\n",
      "Iter: 3, Enc: 1.36e+04, Dec:-1.183, Dis:1.221\n",
      "Iter: 4, Enc: 1.213e+04, Dec:-1.005, Dis:1.047\n",
      "Iter: 5, Enc: 1.077e+04, Dec:-0.4864, Dis:0.5345\n",
      "Iter: 6, Enc: 9.726e+03, Dec:-0.197, Dis:0.2494\n",
      "Iter: 7, Enc: 8.359e+03, Dec:-0.08287, Dis:0.1406\n",
      "Iter: 8, Enc: 7.88e+03, Dec:-0.03715, Dis:0.0992\n",
      "Iter: 9, Enc: 7.428e+03, Dec:-0.02656, Dis:0.09025\n"
     ]
    },
    {
     "ename": "KeyboardInterrupt",
     "evalue": "",
     "output_type": "error",
     "traceback": [
      "\u001b[0;31m---------------------------------------------------------------------------\u001b[0m",
      "\u001b[0;31mKeyboardInterrupt\u001b[0m                         Traceback (most recent call last)",
      "\u001b[0;32m<ipython-input-30-fb32ecbe7ed7>\u001b[0m in \u001b[0;36m<module>\u001b[0;34m\u001b[0m\n\u001b[0;32m----> 1\u001b[0;31m \u001b[0mrun\u001b[0m\u001b[0;34m(\u001b[0m\u001b[0margs\u001b[0m\u001b[0;34m)\u001b[0m\u001b[0;34m\u001b[0m\u001b[0;34m\u001b[0m\u001b[0m\n\u001b[0m",
      "\u001b[0;32m~/Google Drive/_Facultate/MPhil Cambridge/Advanced topics in ML/Autoencoders/R250-GAN-VAE/train.py\u001b[0m in \u001b[0;36mrun\u001b[0;34m(args)\u001b[0m\n\u001b[1;32m     78\u001b[0m         \u001b[0mtrain_betavae\u001b[0m\u001b[0;34m(\u001b[0m\u001b[0margs\u001b[0m\u001b[0;34m)\u001b[0m\u001b[0;34m\u001b[0m\u001b[0;34m\u001b[0m\u001b[0m\n\u001b[1;32m     79\u001b[0m     \u001b[0;32melif\u001b[0m \u001b[0margs\u001b[0m\u001b[0;34m[\u001b[0m\u001b[0;34m'--model'\u001b[0m\u001b[0;34m]\u001b[0m \u001b[0;34m==\u001b[0m \u001b[0;34m'vaegan'\u001b[0m\u001b[0;34m:\u001b[0m\u001b[0;34m\u001b[0m\u001b[0;34m\u001b[0m\u001b[0m\n\u001b[0;32m---> 80\u001b[0;31m         \u001b[0mtrain_vaegan\u001b[0m\u001b[0;34m(\u001b[0m\u001b[0margs\u001b[0m\u001b[0;34m)\u001b[0m\u001b[0;34m\u001b[0m\u001b[0;34m\u001b[0m\u001b[0m\n\u001b[0m\u001b[1;32m     81\u001b[0m \u001b[0;34m\u001b[0m\u001b[0m\n\u001b[1;32m     82\u001b[0m \u001b[0;34m\u001b[0m\u001b[0m\n",
      "\u001b[0;32m~/Google Drive/_Facultate/MPhil Cambridge/Advanced topics in ML/Autoencoders/R250-GAN-VAE/train.py\u001b[0m in \u001b[0;36mtrain_vaegan\u001b[0;34m(args, latent_dimension)\u001b[0m\n\u001b[1;32m    191\u001b[0m             \u001b[0mx_decoded\u001b[0m \u001b[0;34m=\u001b[0m \u001b[0mdecoder\u001b[0m\u001b[0;34m.\u001b[0m\u001b[0mforward\u001b[0m\u001b[0;34m(\u001b[0m\u001b[0mx_encoded\u001b[0m\u001b[0;34m)\u001b[0m\u001b[0;34m\u001b[0m\u001b[0;34m\u001b[0m\u001b[0m\n\u001b[1;32m    192\u001b[0m \u001b[0;34m\u001b[0m\u001b[0m\n\u001b[0;32m--> 193\u001b[0;31m             \u001b[0mlogits_real\u001b[0m\u001b[0;34m,\u001b[0m \u001b[0ml_layer_real\u001b[0m \u001b[0;34m=\u001b[0m \u001b[0mdiscriminator\u001b[0m\u001b[0;34m.\u001b[0m\u001b[0mforward\u001b[0m\u001b[0;34m(\u001b[0m\u001b[0mx_real\u001b[0m\u001b[0;34m)\u001b[0m\u001b[0;34m\u001b[0m\u001b[0;34m\u001b[0m\u001b[0m\n\u001b[0m\u001b[1;32m    194\u001b[0m             \u001b[0mlogits_fake\u001b[0m\u001b[0;34m,\u001b[0m \u001b[0ml_layer_fake\u001b[0m \u001b[0;34m=\u001b[0m \u001b[0mdiscriminator\u001b[0m\u001b[0;34m.\u001b[0m\u001b[0mforward\u001b[0m\u001b[0;34m(\u001b[0m\u001b[0mx_decoded\u001b[0m\u001b[0;34m)\u001b[0m\u001b[0;34m\u001b[0m\u001b[0;34m\u001b[0m\u001b[0m\n\u001b[1;32m    195\u001b[0m             \u001b[0macc_real\u001b[0m \u001b[0;34m=\u001b[0m \u001b[0;34m(\u001b[0m\u001b[0mlogits_real\u001b[0m \u001b[0;34m>=\u001b[0m \u001b[0;36m0\u001b[0m\u001b[0;34m)\u001b[0m\u001b[0;34m.\u001b[0m\u001b[0msum\u001b[0m\u001b[0;34m(\u001b[0m\u001b[0;34m)\u001b[0m \u001b[0;34m/\u001b[0m \u001b[0margs\u001b[0m\u001b[0;34m[\u001b[0m\u001b[0;34m'--batch-size'\u001b[0m\u001b[0;34m]\u001b[0m\u001b[0;34m\u001b[0m\u001b[0;34m\u001b[0m\u001b[0m\n",
      "\u001b[0;32m~/Google Drive/_Facultate/MPhil Cambridge/Advanced topics in ML/Autoencoders/R250-GAN-VAE/models.py\u001b[0m in \u001b[0;36mforward\u001b[0;34m(self, x)\u001b[0m\n\u001b[1;32m    143\u001b[0m         \u001b[0;34m-\u001b[0m \u001b[0ml_layer\u001b[0m \u001b[0;34m(\u001b[0m\u001b[0;32mNone\u001b[0m\u001b[0;34m,\u001b[0m \u001b[0;34m-\u001b[0m\u001b[0;36m1\u001b[0m\u001b[0;34m)\u001b[0m \u001b[0;34m-\u001b[0m \u001b[0mvalues\u001b[0m \u001b[0mflattened\u001b[0m \u001b[0;32mfor\u001b[0m \u001b[0mth\u001b[0m \u001b[0mel\u001b[0m\u001b[0;34m-\u001b[0m\u001b[0mth\u001b[0m \u001b[0mlayer\u001b[0m \u001b[0;34m(\u001b[0m\u001b[0mused\u001b[0m \u001b[0mto\u001b[0m \u001b[0mcompute\u001b[0m \u001b[0mthe\u001b[0m \u001b[0mloss\u001b[0m\u001b[0;34m)\u001b[0m\u001b[0;34m\u001b[0m\u001b[0;34m\u001b[0m\u001b[0m\n\u001b[1;32m    144\u001b[0m         \"\"\"\n\u001b[0;32m--> 145\u001b[0;31m         \u001b[0mpart_1\u001b[0m \u001b[0;34m=\u001b[0m \u001b[0mself\u001b[0m\u001b[0;34m.\u001b[0m\u001b[0mpart_1\u001b[0m\u001b[0;34m(\u001b[0m\u001b[0mx\u001b[0m\u001b[0;34m)\u001b[0m\u001b[0;34m\u001b[0m\u001b[0;34m\u001b[0m\u001b[0m\n\u001b[0m\u001b[1;32m    146\u001b[0m         \u001b[0ml_layer\u001b[0m \u001b[0;34m=\u001b[0m \u001b[0mself\u001b[0m\u001b[0;34m.\u001b[0m\u001b[0mflatten\u001b[0m\u001b[0;34m(\u001b[0m\u001b[0mpart_1\u001b[0m\u001b[0;34m)\u001b[0m\u001b[0;34m\u001b[0m\u001b[0;34m\u001b[0m\u001b[0m\n\u001b[1;32m    147\u001b[0m         \u001b[0mpart_2\u001b[0m \u001b[0;34m=\u001b[0m \u001b[0mself\u001b[0m\u001b[0;34m.\u001b[0m\u001b[0mpart_2\u001b[0m\u001b[0;34m(\u001b[0m\u001b[0mpart_1\u001b[0m\u001b[0;34m)\u001b[0m\u001b[0;34m\u001b[0m\u001b[0;34m\u001b[0m\u001b[0m\n",
      "\u001b[0;32m~/anaconda3/envs/r250/lib/python3.7/site-packages/torch/nn/modules/module.py\u001b[0m in \u001b[0;36m__call__\u001b[0;34m(self, *input, **kwargs)\u001b[0m\n\u001b[1;32m    530\u001b[0m             \u001b[0mresult\u001b[0m \u001b[0;34m=\u001b[0m \u001b[0mself\u001b[0m\u001b[0;34m.\u001b[0m\u001b[0m_slow_forward\u001b[0m\u001b[0;34m(\u001b[0m\u001b[0;34m*\u001b[0m\u001b[0minput\u001b[0m\u001b[0;34m,\u001b[0m \u001b[0;34m**\u001b[0m\u001b[0mkwargs\u001b[0m\u001b[0;34m)\u001b[0m\u001b[0;34m\u001b[0m\u001b[0;34m\u001b[0m\u001b[0m\n\u001b[1;32m    531\u001b[0m         \u001b[0;32melse\u001b[0m\u001b[0;34m:\u001b[0m\u001b[0;34m\u001b[0m\u001b[0;34m\u001b[0m\u001b[0m\n\u001b[0;32m--> 532\u001b[0;31m             \u001b[0mresult\u001b[0m \u001b[0;34m=\u001b[0m \u001b[0mself\u001b[0m\u001b[0;34m.\u001b[0m\u001b[0mforward\u001b[0m\u001b[0;34m(\u001b[0m\u001b[0;34m*\u001b[0m\u001b[0minput\u001b[0m\u001b[0;34m,\u001b[0m \u001b[0;34m**\u001b[0m\u001b[0mkwargs\u001b[0m\u001b[0;34m)\u001b[0m\u001b[0;34m\u001b[0m\u001b[0;34m\u001b[0m\u001b[0m\n\u001b[0m\u001b[1;32m    533\u001b[0m         \u001b[0;32mfor\u001b[0m \u001b[0mhook\u001b[0m \u001b[0;32min\u001b[0m \u001b[0mself\u001b[0m\u001b[0;34m.\u001b[0m\u001b[0m_forward_hooks\u001b[0m\u001b[0;34m.\u001b[0m\u001b[0mvalues\u001b[0m\u001b[0;34m(\u001b[0m\u001b[0;34m)\u001b[0m\u001b[0;34m:\u001b[0m\u001b[0;34m\u001b[0m\u001b[0;34m\u001b[0m\u001b[0m\n\u001b[1;32m    534\u001b[0m             \u001b[0mhook_result\u001b[0m \u001b[0;34m=\u001b[0m \u001b[0mhook\u001b[0m\u001b[0;34m(\u001b[0m\u001b[0mself\u001b[0m\u001b[0;34m,\u001b[0m \u001b[0minput\u001b[0m\u001b[0;34m,\u001b[0m \u001b[0mresult\u001b[0m\u001b[0;34m)\u001b[0m\u001b[0;34m\u001b[0m\u001b[0;34m\u001b[0m\u001b[0m\n",
      "\u001b[0;32m~/anaconda3/envs/r250/lib/python3.7/site-packages/torch/nn/modules/container.py\u001b[0m in \u001b[0;36mforward\u001b[0;34m(self, input)\u001b[0m\n\u001b[1;32m     98\u001b[0m     \u001b[0;32mdef\u001b[0m \u001b[0mforward\u001b[0m\u001b[0;34m(\u001b[0m\u001b[0mself\u001b[0m\u001b[0;34m,\u001b[0m \u001b[0minput\u001b[0m\u001b[0;34m)\u001b[0m\u001b[0;34m:\u001b[0m\u001b[0;34m\u001b[0m\u001b[0;34m\u001b[0m\u001b[0m\n\u001b[1;32m     99\u001b[0m         \u001b[0;32mfor\u001b[0m \u001b[0mmodule\u001b[0m \u001b[0;32min\u001b[0m \u001b[0mself\u001b[0m\u001b[0;34m:\u001b[0m\u001b[0;34m\u001b[0m\u001b[0;34m\u001b[0m\u001b[0m\n\u001b[0;32m--> 100\u001b[0;31m             \u001b[0minput\u001b[0m \u001b[0;34m=\u001b[0m \u001b[0mmodule\u001b[0m\u001b[0;34m(\u001b[0m\u001b[0minput\u001b[0m\u001b[0;34m)\u001b[0m\u001b[0;34m\u001b[0m\u001b[0;34m\u001b[0m\u001b[0m\n\u001b[0m\u001b[1;32m    101\u001b[0m         \u001b[0;32mreturn\u001b[0m \u001b[0minput\u001b[0m\u001b[0;34m\u001b[0m\u001b[0;34m\u001b[0m\u001b[0m\n\u001b[1;32m    102\u001b[0m \u001b[0;34m\u001b[0m\u001b[0m\n",
      "\u001b[0;32m~/anaconda3/envs/r250/lib/python3.7/site-packages/torch/nn/modules/module.py\u001b[0m in \u001b[0;36m__call__\u001b[0;34m(self, *input, **kwargs)\u001b[0m\n\u001b[1;32m    530\u001b[0m             \u001b[0mresult\u001b[0m \u001b[0;34m=\u001b[0m \u001b[0mself\u001b[0m\u001b[0;34m.\u001b[0m\u001b[0m_slow_forward\u001b[0m\u001b[0;34m(\u001b[0m\u001b[0;34m*\u001b[0m\u001b[0minput\u001b[0m\u001b[0;34m,\u001b[0m \u001b[0;34m**\u001b[0m\u001b[0mkwargs\u001b[0m\u001b[0;34m)\u001b[0m\u001b[0;34m\u001b[0m\u001b[0;34m\u001b[0m\u001b[0m\n\u001b[1;32m    531\u001b[0m         \u001b[0;32melse\u001b[0m\u001b[0;34m:\u001b[0m\u001b[0;34m\u001b[0m\u001b[0;34m\u001b[0m\u001b[0m\n\u001b[0;32m--> 532\u001b[0;31m             \u001b[0mresult\u001b[0m \u001b[0;34m=\u001b[0m \u001b[0mself\u001b[0m\u001b[0;34m.\u001b[0m\u001b[0mforward\u001b[0m\u001b[0;34m(\u001b[0m\u001b[0;34m*\u001b[0m\u001b[0minput\u001b[0m\u001b[0;34m,\u001b[0m \u001b[0;34m**\u001b[0m\u001b[0mkwargs\u001b[0m\u001b[0;34m)\u001b[0m\u001b[0;34m\u001b[0m\u001b[0;34m\u001b[0m\u001b[0m\n\u001b[0m\u001b[1;32m    533\u001b[0m         \u001b[0;32mfor\u001b[0m \u001b[0mhook\u001b[0m \u001b[0;32min\u001b[0m \u001b[0mself\u001b[0m\u001b[0;34m.\u001b[0m\u001b[0m_forward_hooks\u001b[0m\u001b[0;34m.\u001b[0m\u001b[0mvalues\u001b[0m\u001b[0;34m(\u001b[0m\u001b[0;34m)\u001b[0m\u001b[0;34m:\u001b[0m\u001b[0;34m\u001b[0m\u001b[0;34m\u001b[0m\u001b[0m\n\u001b[1;32m    534\u001b[0m             \u001b[0mhook_result\u001b[0m \u001b[0;34m=\u001b[0m \u001b[0mhook\u001b[0m\u001b[0;34m(\u001b[0m\u001b[0mself\u001b[0m\u001b[0;34m,\u001b[0m \u001b[0minput\u001b[0m\u001b[0;34m,\u001b[0m \u001b[0mresult\u001b[0m\u001b[0;34m)\u001b[0m\u001b[0;34m\u001b[0m\u001b[0;34m\u001b[0m\u001b[0m\n",
      "\u001b[0;32m~/anaconda3/envs/r250/lib/python3.7/site-packages/torch/nn/modules/conv.py\u001b[0m in \u001b[0;36mforward\u001b[0;34m(self, input)\u001b[0m\n\u001b[1;32m    343\u001b[0m \u001b[0;34m\u001b[0m\u001b[0m\n\u001b[1;32m    344\u001b[0m     \u001b[0;32mdef\u001b[0m \u001b[0mforward\u001b[0m\u001b[0;34m(\u001b[0m\u001b[0mself\u001b[0m\u001b[0;34m,\u001b[0m \u001b[0minput\u001b[0m\u001b[0;34m)\u001b[0m\u001b[0;34m:\u001b[0m\u001b[0;34m\u001b[0m\u001b[0;34m\u001b[0m\u001b[0m\n\u001b[0;32m--> 345\u001b[0;31m         \u001b[0;32mreturn\u001b[0m \u001b[0mself\u001b[0m\u001b[0;34m.\u001b[0m\u001b[0mconv2d_forward\u001b[0m\u001b[0;34m(\u001b[0m\u001b[0minput\u001b[0m\u001b[0;34m,\u001b[0m \u001b[0mself\u001b[0m\u001b[0;34m.\u001b[0m\u001b[0mweight\u001b[0m\u001b[0;34m)\u001b[0m\u001b[0;34m\u001b[0m\u001b[0;34m\u001b[0m\u001b[0m\n\u001b[0m\u001b[1;32m    346\u001b[0m \u001b[0;34m\u001b[0m\u001b[0m\n\u001b[1;32m    347\u001b[0m \u001b[0;32mclass\u001b[0m \u001b[0mConv3d\u001b[0m\u001b[0;34m(\u001b[0m\u001b[0m_ConvNd\u001b[0m\u001b[0;34m)\u001b[0m\u001b[0;34m:\u001b[0m\u001b[0;34m\u001b[0m\u001b[0;34m\u001b[0m\u001b[0m\n",
      "\u001b[0;32m~/anaconda3/envs/r250/lib/python3.7/site-packages/torch/nn/modules/conv.py\u001b[0m in \u001b[0;36mconv2d_forward\u001b[0;34m(self, input, weight)\u001b[0m\n\u001b[1;32m    340\u001b[0m                             _pair(0), self.dilation, self.groups)\n\u001b[1;32m    341\u001b[0m         return F.conv2d(input, weight, self.bias, self.stride,\n\u001b[0;32m--> 342\u001b[0;31m                         self.padding, self.dilation, self.groups)\n\u001b[0m\u001b[1;32m    343\u001b[0m \u001b[0;34m\u001b[0m\u001b[0m\n\u001b[1;32m    344\u001b[0m     \u001b[0;32mdef\u001b[0m \u001b[0mforward\u001b[0m\u001b[0;34m(\u001b[0m\u001b[0mself\u001b[0m\u001b[0;34m,\u001b[0m \u001b[0minput\u001b[0m\u001b[0;34m)\u001b[0m\u001b[0;34m:\u001b[0m\u001b[0;34m\u001b[0m\u001b[0;34m\u001b[0m\u001b[0m\n",
      "\u001b[0;31mKeyboardInterrupt\u001b[0m: "
     ]
    }
   ],
   "source": [
    "run(args)"
   ]
  },
  {
   "cell_type": "code",
   "execution_count": null,
   "metadata": {},
   "outputs": [],
   "source": []
  }
 ],
 "metadata": {
  "accelerator": "GPU",
  "colab": {
   "name": "run_interactive.ipynb",
   "provenance": []
  },
  "kernelspec": {
   "display_name": "Python 3",
   "language": "python",
   "name": "python3"
  },
  "language_info": {
   "codemirror_mode": {
    "name": "ipython",
    "version": 3
   },
   "file_extension": ".py",
   "mimetype": "text/x-python",
   "name": "python",
   "nbconvert_exporter": "python",
   "pygments_lexer": "ipython3",
   "version": "3.7.6"
  },
  "pycharm": {
   "stem_cell": {
    "cell_type": "raw",
    "metadata": {
     "collapsed": false
    },
    "source": []
   }
  }
 },
 "nbformat": 4,
 "nbformat_minor": 1
}
